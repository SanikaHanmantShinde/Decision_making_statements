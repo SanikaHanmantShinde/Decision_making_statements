{
 "cells": [
  {
   "cell_type": "markdown",
   "id": "da02250c-795d-4dfb-95bf-5c61f9c1c94d",
   "metadata": {},
   "source": [
    "# Decision making Statements"
   ]
  },
  {
   "cell_type": "markdown",
   "id": "dcb0887d-223a-4f7d-8549-146944cf350f",
   "metadata": {},
   "source": [
    "### (1)if statements\n",
    "### (2)if-else statements\n",
    "### (3)nested if statements\n",
    "### (4)elif ladder (chained conditions)\n",
    "### (5)single statement condition"
   ]
  },
  {
   "cell_type": "markdown",
   "id": "aa7033b3-8dd4-4fd5-883c-575b8900421b",
   "metadata": {},
   "source": [
    "## (1)if statement\n",
    "#### Syntax= \n",
    "####          if condition:\n",
    "####             statements"
   ]
  },
  {
   "cell_type": "markdown",
   "id": "fc8da1b8-1735-4cf8-9d48-789a564a0c35",
   "metadata": {},
   "source": [
    "### example_1=cheak no is positive"
   ]
  },
  {
   "cell_type": "code",
   "execution_count": 2,
   "id": "751e0d0c-7155-4152-b945-681a460f7e9c",
   "metadata": {},
   "outputs": [
    {
     "name": "stdin",
     "output_type": "stream",
     "text": [
      "enter no= 4\n"
     ]
    },
    {
     "name": "stdout",
     "output_type": "stream",
     "text": [
      "positive\n"
     ]
    }
   ],
   "source": [
    "num=int(input('enter no='))\n",
    "if num>0:\n",
    "    print('positive')\n",
    "    "
   ]
  },
  {
   "cell_type": "markdown",
   "id": "9af76130-f554-44d7-b54e-e5c5520b87f1",
   "metadata": {},
   "source": [
    "### (2)if_else statement\n",
    "#### Syntax=\n",
    "##### if condition:\n",
    "#####   statements_1\n",
    "##### else:\n",
    "#####   statements_2\n",
    "### example_1=Cheak no. is positive or negative"
   ]
  },
  {
   "cell_type": "code",
   "execution_count": 3,
   "id": "7ef5631f-9707-4b13-8ae7-7ffeec13d7ff",
   "metadata": {},
   "outputs": [
    {
     "name": "stdin",
     "output_type": "stream",
     "text": [
      "enter no= 34\n"
     ]
    },
    {
     "name": "stdout",
     "output_type": "stream",
     "text": [
      "positive\n"
     ]
    }
   ],
   "source": [
    "\n",
    "num=int(input('enter no='))\n",
    "if num>0:\n",
    "    print('positive')\n",
    "\n",
    "else:\n",
    "    print('negative')\n",
    "    "
   ]
  },
  {
   "cell_type": "markdown",
   "id": "376baaaa-35f5-4c33-84b4-08cf907dfd79",
   "metadata": {},
   "source": [
    "### example_2=cheak if num is odd or even"
   ]
  },
  {
   "cell_type": "code",
   "execution_count": 8,
   "id": "8a31547d-6a16-4993-a6e1-c38dbdc206db",
   "metadata": {},
   "outputs": [
    {
     "name": "stdin",
     "output_type": "stream",
     "text": [
      "enter num= 0\n"
     ]
    },
    {
     "name": "stdout",
     "output_type": "stream",
     "text": [
      "even\n"
     ]
    }
   ],
   "source": [
    "\n",
    "num=int(input('enter num='))\n",
    "if num%2==0:\n",
    "    print('even')\n",
    "else:\n",
    "   print('odd')\n",
    "\n",
    "\n",
    "        "
   ]
  },
  {
   "cell_type": "markdown",
   "id": "a5c127c4-8058-4d1d-9c56-5547c25fa99f",
   "metadata": {},
   "source": [
    "### example_3=cheak if the num is between 50 and 150"
   ]
  },
  {
   "cell_type": "code",
   "execution_count": 18,
   "id": "37ac3cad-5afc-4540-8448-5fcc71e8875b",
   "metadata": {},
   "outputs": [
    {
     "name": "stdin",
     "output_type": "stream",
     "text": [
      "enter no= 57\n"
     ]
    },
    {
     "name": "stdout",
     "output_type": "stream",
     "text": [
      "num is between 50 and 150\n"
     ]
    }
   ],
   "source": [
    "\n",
    "num=int(input('enter no='))\n",
    "if num>50 and num<150:\n",
    "    \n",
    "        print('num is between 50 and 150')\n",
    "   \n",
    "else:\n",
    "     print('num is not between 50 and 150')"
   ]
  },
  {
   "cell_type": "markdown",
   "id": "a080bd03-174a-4f00-a7fe-0450ef58c9f9",
   "metadata": {},
   "source": [
    "### example_4=cheak profit or loss take purchase and selling price from user"
   ]
  },
  {
   "cell_type": "code",
   "execution_count": 16,
   "id": "8e045318-7dfa-4891-bf99-7d74a39dac24",
   "metadata": {},
   "outputs": [
    {
     "name": "stdin",
     "output_type": "stream",
     "text": [
      "enter selling cost 2000\n",
      "enter purchase cost 1000\n"
     ]
    },
    {
     "name": "stdout",
     "output_type": "stream",
     "text": [
      "profit 1000\n"
     ]
    }
   ],
   "source": [
    "#read selling cost and purchase cost \n",
    "#find profit or loss and how much\n",
    "selling=int(input('enter selling cost'))\n",
    "purchase=int(input('enter purchase cost'))\n",
    "if selling>purchase:\n",
    "    print('profit',selling-purchase)\n",
    "   \n",
    "else:\n",
    "    print('loss',purchase-selling)\n",
    "  \n",
    "    "
   ]
  },
  {
   "cell_type": "markdown",
   "id": "029e557c-1714-4cd4-b123-f631fcbb677c",
   "metadata": {},
   "source": [
    "### (3)if_elif_else statement\n",
    "#### Syntax=\n",
    "##### if condition:\n",
    "#####   statements_1\n",
    "##### elif condition:\n",
    "#####   statements_2\n",
    "##### else:\n",
    "#####   statements_3\n",
    "### example_1=Cheak no. is positive ,negative or zero"
   ]
  },
  {
   "cell_type": "code",
   "execution_count": 5,
   "id": "34b6494d-2122-4923-af1b-3c98c4a2f2ee",
   "metadata": {},
   "outputs": [
    {
     "name": "stdin",
     "output_type": "stream",
     "text": [
      "enter no= 0\n"
     ]
    },
    {
     "name": "stdout",
     "output_type": "stream",
     "text": [
      "Zero\n"
     ]
    }
   ],
   "source": [
    "num=int(input('enter no='))\n",
    "if num>0:\n",
    "    print('positive')\n",
    "elif num==0:\n",
    "    print('Zero')\n",
    "else:\n",
    "    print('negative')\n",
    "    "
   ]
  },
  {
   "cell_type": "markdown",
   "id": "e4eb2591-2c52-4d3c-b84a-8fea7283aa79",
   "metadata": {},
   "source": [
    "### example_2=display grade according to percentage"
   ]
  },
  {
   "cell_type": "code",
   "execution_count": 18,
   "id": "5083e0e7-fd70-4cd9-99da-122394db1093",
   "metadata": {},
   "outputs": [
    {
     "name": "stdin",
     "output_type": "stream",
     "text": [
      "enter physics marks= 60\n",
      "enter chemistry marks= 60\n",
      "enter math marks= 60\n",
      "enter biology marks= 60\n",
      "enter comp marks= 60\n"
     ]
    },
    {
     "name": "stdout",
     "output_type": "stream",
     "text": [
      "60.0 %\n",
      "Grade=D\n"
     ]
    }
   ],
   "source": [
    "#grade\n",
    "phy=int(input('enter physics marks='))\n",
    "chem=int(input('enter chemistry marks='))\n",
    "math=int(input('enter math marks='))\n",
    "bio=int(input('enter biology marks='))\n",
    "comp=int(input('enter comp marks='))\n",
    "total=phy+chem+math+bio+comp\n",
    "percent=total*100/500\n",
    "print(percent,'%')\n",
    "if percent>=90:\n",
    "    print('Grade=A')\n",
    "elif percent>=80:\n",
    "     print('Grade=B')\n",
    "elif percent>=70:\n",
    "     print('Grade=C')   \n",
    "elif percent>=60:\n",
    "     print('Grade=D')\n",
    "else: \n",
    "     print('fail')\n",
    "\n",
    "    "
   ]
  },
  {
   "cell_type": "markdown",
   "id": "5699dc2b-4f41-4a9e-95b0-747247e2ca0f",
   "metadata": {},
   "source": [
    "### example_3=menu driven program"
   ]
  },
  {
   "cell_type": "code",
   "execution_count": null,
   "id": "63e6c8b6-3fad-4857-84af-b551a54ddf8c",
   "metadata": {},
   "outputs": [],
   "source": [
    "#menu driven program\n",
    "num=int(input('enter no='))\n",
    "print('********Menu*************\\n1.square\\n2.cube\\n3.cheak +ve or -ve')\n",
    "ch=int(input('enter choice='))\n",
    "if ch==1:\n",
    "  print(num*num)\n",
    "elif ch==2:\n",
    "     print(num*num*num)\n",
    "elif ch==3:\n",
    "    if num>0:\n",
    "         print('positive')\n",
    "    else:\n",
    "         print('negative')\n",
    "else:\n",
    "     print('invalid choice')\n",
    "    "
   ]
  },
  {
   "cell_type": "markdown",
   "id": "c68b3020-3ce1-4f91-8c60-108f81602385",
   "metadata": {},
   "source": [
    "### (4)nested if_else statement\n",
    "#### Syntax=\n",
    "##### if condition:\n",
    "#####   statements_1\n",
    "######    if condition:\n",
    "######        statements_2\n",
    "\n",
    "##### else:\n",
    "#####   statements_3\n",
    "### example_1=Cheak largest no. among given three no"
   ]
  },
  {
   "cell_type": "code",
   "execution_count": 6,
   "id": "d0be065b-7779-4595-a38e-09b9f62e509d",
   "metadata": {},
   "outputs": [
    {
     "name": "stdin",
     "output_type": "stream",
     "text": [
      "enter no= 12\n",
      "enter no= 23\n",
      "enter no= 46\n"
     ]
    },
    {
     "name": "stdout",
     "output_type": "stream",
     "text": [
      "largest= 46\n"
     ]
    }
   ],
   "source": [
    "#find the largest of three no\n",
    "num1=int(input('enter no='))\n",
    "num2=int(input('enter no='))\n",
    "num3=int(input('enter no='))\n",
    "if num1>num2:\n",
    "    if num1>num3:\n",
    "        print('largest=',num1)\n",
    "    else:\n",
    "          print('largest=',num3)\n",
    "else:\n",
    "    if num2>num3:\n",
    "         print('largest=',num2)\n",
    "    else:\n",
    "       print('largest=',num3)"
   ]
  },
  {
   "cell_type": "markdown",
   "id": "cb5488d9-1d8c-499b-beb4-051958fdc908",
   "metadata": {},
   "source": [
    "### example_2=Cheak year is leap or not"
   ]
  },
  {
   "cell_type": "code",
   "execution_count": 14,
   "id": "81deaf95-aa01-4c46-bcdd-cafcff807fa6",
   "metadata": {},
   "outputs": [
    {
     "name": "stdin",
     "output_type": "stream",
     "text": [
      "enter year to cheak 2000\n"
     ]
    },
    {
     "name": "stdout",
     "output_type": "stream",
     "text": [
      "leap century year\n"
     ]
    }
   ],
   "source": [
    "#leap\n",
    "year=int(input('enter year to cheak'))\n",
    "\n",
    "if year%4==0:\n",
    "    if year%100==0:\n",
    "        if year%400==0:\n",
    "                print('leap century year')\n",
    "        else:\n",
    "           print('century year but not leap')\n",
    "    else:\n",
    "          print('leap')\n",
    "else:\n",
    "    print('leap')\n",
    "       \n"
   ]
  },
  {
   "cell_type": "markdown",
   "id": "e0a1de40-71dd-4ae1-8358-f9ec04f01537",
   "metadata": {},
   "source": [
    "### example_3"
   ]
  },
  {
   "cell_type": "code",
   "execution_count": 59,
   "id": "df9eb945-cf4d-4314-a2a6-6a28c286f1fc",
   "metadata": {},
   "outputs": [
    {
     "name": "stdin",
     "output_type": "stream",
     "text": [
      "enter no= 2\n"
     ]
    },
    {
     "name": "stdout",
     "output_type": "stream",
     "text": [
      "********Menu*************\n",
      "1.square\n",
      "2.cube\n",
      "3.cheak +ve or -ve\n"
     ]
    },
    {
     "name": "stdin",
     "output_type": "stream",
     "text": [
      "enter choice= 3\n"
     ]
    },
    {
     "name": "stdout",
     "output_type": "stream",
     "text": [
      "positive\n"
     ]
    }
   ],
   "source": [
    "#menu driven program\n",
    "num=int(input('enter no='))\n",
    "print('********Menu*************\\n1.square\\n2.cube\\n3.cheak +ve or -ve')\n",
    "ch=int(input('enter choice='))\n",
    "if ch==1:\n",
    "  print(num*num)\n",
    "elif ch==2:\n",
    "     print(num*num*num)\n",
    "elif ch==3:\n",
    "    if num>0:\n",
    "         print('positive')\n",
    "    else:\n",
    "         print('negative')\n",
    "else:\n",
    "     print('invalid choice')\n",
    "    \n",
    "  "
   ]
  },
  {
   "cell_type": "code",
   "execution_count": null,
   "id": "3038c84c-78c3-4574-8513-5f8ed4f2ce1e",
   "metadata": {},
   "outputs": [],
   "source": []
  }
 ],
 "metadata": {
  "kernelspec": {
   "display_name": "Python 3 (ipykernel)",
   "language": "python",
   "name": "python3"
  },
  "language_info": {
   "codemirror_mode": {
    "name": "ipython",
    "version": 3
   },
   "file_extension": ".py",
   "mimetype": "text/x-python",
   "name": "python",
   "nbconvert_exporter": "python",
   "pygments_lexer": "ipython3",
   "version": "3.11.7"
  }
 },
 "nbformat": 4,
 "nbformat_minor": 5
}
